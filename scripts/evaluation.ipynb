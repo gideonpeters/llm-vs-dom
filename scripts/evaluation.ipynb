{
 "cells": [
  {
   "cell_type": "code",
   "execution_count": 10,
   "id": "483db916",
   "metadata": {},
   "outputs": [],
   "source": [
    "import pandas as pd\n",
    "import numpy as np\n",
    "import os"
   ]
  },
  {
   "cell_type": "code",
   "execution_count": 11,
   "id": "e07c1eae",
   "metadata": {},
   "outputs": [],
   "source": [
    "modified_path = \"./../results/evaluations/llama3.3-70b\""
   ]
  },
  {
   "cell_type": "code",
   "execution_count": 23,
   "id": "b5d59842",
   "metadata": {},
   "outputs": [
    {
     "name": "stdout",
     "output_type": "stream",
     "text": [
      "Processing pinterest...\n",
      "Completions written to pinterest in HTML format.\n",
      "Processing twitch...\n",
      "Completions written to twitch in HTML format.\n",
      "Processing youtube...\n",
      "Completions written to youtube in HTML format.\n",
      "Processing quora...\n",
      "Completions written to quora in HTML format.\n",
      "Processing facebook...\n",
      "Completions written to facebook in HTML format.\n",
      "Processing ebay...\n",
      "Completions written to ebay in HTML format.\n",
      "Processing walmart...\n",
      "Completions written to walmart in HTML format.\n",
      "Processing netflix...\n",
      "Completions written to netflix in HTML format.\n",
      "Processing reddit...\n",
      "Completions written to reddit in HTML format.\n",
      "Processing twitter...\n",
      "Completions written to twitter in HTML format.\n",
      "Processing linkedin...\n",
      "Completions written to linkedin in HTML format.\n",
      "Processing github...\n",
      "Completions written to github in HTML format.\n",
      "Processing medium...\n",
      "Completions written to medium in HTML format.\n",
      "Processing airbnb...\n",
      "Completions written to airbnb in HTML format.\n",
      "Processing aliexpress...\n",
      "Completions written to aliexpress in HTML format.\n"
     ]
    }
   ],
   "source": [
    "# for each file in the modified_path directory\n",
    "for filename in os.listdir(modified_path):\n",
    "    # check if the file is a CSV file\n",
    "    if filename.endswith(\".csv\"):\n",
    "        cleaned_filename = filename.replace(\".csv\", \"\")\n",
    "        # read the CSV file into a DataFrame\n",
    "        df = pd.read_csv(os.path.join(modified_path, filename))\n",
    "\n",
    "        print(f\"Processing {cleaned_filename}...\")\n",
    "\n",
    "        # create a string of all the completions\n",
    "        completions = \"\"\n",
    "        for index, row in df.iterrows():\n",
    "            # check if the row is a completion\n",
    "            if \"completion\" in row and isinstance(row[\"completion\"], str):\n",
    "                completions += row[\"completion\"] + \"\\n\"\n",
    "\n",
    "        html_dir = \"./../results/html/llama3.3-70b\"\n",
    "        if not os.path.exists(html_dir):\n",
    "            os.makedirs(html_dir)\n",
    "\n",
    "        with open(f\"{html_dir}/{cleaned_filename}.html\", \"w\") as f:\n",
    "            # write the completions to the file\n",
    "            f.write(completions)\n",
    "            print(f\"Completions written to {cleaned_filename} in HTML format.\")\n"
   ]
  }
 ],
 "metadata": {
  "kernelspec": {
   "display_name": "base",
   "language": "python",
   "name": "python3"
  },
  "language_info": {
   "codemirror_mode": {
    "name": "ipython",
    "version": 3
   },
   "file_extension": ".py",
   "mimetype": "text/x-python",
   "name": "python",
   "nbconvert_exporter": "python",
   "pygments_lexer": "ipython3",
   "version": "3.12.2"
  }
 },
 "nbformat": 4,
 "nbformat_minor": 5
}
